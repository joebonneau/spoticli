{
 "cells": [
  {
   "cell_type": "code",
   "execution_count": null,
   "id": "1de12ce7",
   "metadata": {},
   "outputs": [],
   "source": [
    "import os\n",
    "import json\n",
    "\n",
    "import spotipy as sp\n",
    "from spotipy.oauth2 import SpotifyOAuth\n",
    "from pprint import pprint\n",
    "import random"
   ]
  },
  {
   "cell_type": "code",
   "execution_count": null,
   "id": "ce2f8f04",
   "metadata": {},
   "outputs": [],
   "source": [
    "SPOTIFY_USER_ID = os.environ.get(\"SPOTIFY_USER_ID\")\n",
    "SPOTIFY_CLIENT_ID = os.environ.get(\"SPOTIFY_CLIENT_ID\")\n",
    "SPOTIFY_CLIENT_SECRET = os.environ.get(\"SPOTIFY_CLIENT_SECRET\")\n",
    "SPOTIFY_REDIRECT_URI = os.environ.get(\"SPOTIFY_REDIRECT_URI\")\n",
    "\n",
    "states = [\n",
    "    \"user-modify-playback-state\",\n",
    "    \"user-read-playback-state\",\n",
    "    \"user-library-read\",\n",
    "    \"playlist-read-private\",\n",
    "    \"playlist-read-collaborative\",\n",
    "    \"playlist-modify-public\",\n",
    "    \"playlist-modify-private\",\n",
    "    \"user-read-recently-played\",\n",
    "]\n",
    "STATE_STR = \" \".join(states)"
   ]
  },
  {
   "cell_type": "code",
   "execution_count": null,
   "id": "0d399787",
   "metadata": {},
   "outputs": [],
   "source": [
    "sp_auth = sp.Spotify(\n",
    "        auth_manager=SpotifyOAuth(\n",
    "            client_id=SPOTIFY_CLIENT_ID,\n",
    "            client_secret=SPOTIFY_CLIENT_SECRET,\n",
    "            redirect_uri=SPOTIFY_REDIRECT_URI,\n",
    "            scope=STATE_STR\n",
    "        )\n",
    ")"
   ]
  },
  {
   "cell_type": "code",
   "execution_count": null,
   "id": "d494ccb8",
   "metadata": {},
   "outputs": [],
   "source": [
    "current_playback = sp_auth.current_playback()"
   ]
  },
  {
   "cell_type": "code",
   "execution_count": null,
   "id": "3fcc27b3",
   "metadata": {},
   "outputs": [],
   "source": [
    "pprint(current_playback)"
   ]
  },
  {
   "cell_type": "code",
   "execution_count": null,
   "id": "b4b454f7",
   "metadata": {},
   "outputs": [],
   "source": [
    "f = open(\"current_playback_res.json\", \"w\")\n",
    "f.write(json.dumps(current_playback, indent=4))\n",
    "f.close()"
   ]
  },
  {
   "cell_type": "code",
   "execution_count": null,
   "id": "7a4a62fb",
   "metadata": {},
   "outputs": [],
   "source": [
    "from spoticli.util import get_current_playback, convert_ms, convert_datetime\n",
    "from pathlib import Path"
   ]
  },
  {
   "cell_type": "code",
   "execution_count": null,
   "id": "05c05963",
   "metadata": {},
   "outputs": [],
   "source": [
    "path = Path(\"../../test/unit/artifacts/current_playback_res.json\")\n",
    "f = open(path)\n",
    "res = json.load(f)\n",
    "\n",
    "get_current_playback(res, False)"
   ]
  },
  {
   "cell_type": "code",
   "execution_count": null,
   "id": "13be06db",
   "metadata": {},
   "outputs": [],
   "source": [
    "convert_ms(600000)"
   ]
  },
  {
   "cell_type": "code",
   "execution_count": null,
   "id": "b8c895e9",
   "metadata": {},
   "outputs": [],
   "source": [
    "convert_datetime(\"20210813 20:01\")"
   ]
  },
  {
   "cell_type": "code",
   "execution_count": null,
   "id": "8fc0aeb4",
   "metadata": {},
   "outputs": [],
   "source": [
    "convert_datetime(\"20200403 13:37\")"
   ]
  },
  {
   "cell_type": "code",
   "execution_count": null,
   "id": "000a1919",
   "metadata": {},
   "outputs": [],
   "source": [
    "\"Durand Jones & The Indications, Aaron Frazer\"[0:35]"
   ]
  },
  {
   "cell_type": "code",
   "execution_count": null,
   "id": "33b5d7ba",
   "metadata": {},
   "outputs": [],
   "source": [
    "search_res = sp_auth.search(\"illmatic\", 10, 0, \"album\")\n",
    "\n",
    "f = open(\"../unit/artifacts/search_album_res.json\", \"w\")\n",
    "f.write(json.dumps(search_res, indent=4))\n",
    "f.close()"
   ]
  },
  {
   "cell_type": "code",
   "execution_count": null,
   "id": "0cb29eac",
   "metadata": {},
   "outputs": [],
   "source": [
    "search_res = sp_auth.search(\"september\", 10, 0, \"track\")\n",
    "\n",
    "f = open(\"../unit/artifacts/search_track_res.json\", \"w\")\n",
    "f.write(json.dumps(search_res, indent=4))\n",
    "f.close()"
   ]
  },
  {
   "cell_type": "code",
   "execution_count": null,
   "id": "1e9a4197",
   "metadata": {},
   "outputs": [],
   "source": [
    "search_res = sp_auth.search(\"a tribe called quest\", 10, 0, \"artist\")\n",
    "\n",
    "f = open(\"../unit/artifacts/search_artist_res.json\", \"w\")\n",
    "f.write(json.dumps(search_res, indent=4))\n",
    "f.close()"
   ]
  },
  {
   "cell_type": "code",
   "execution_count": null,
   "id": "cc906feb",
   "metadata": {},
   "outputs": [],
   "source": [
    "search_res = sp_auth.search(\"groovin'\", 10, 0, \"playlist\")\n",
    "\n",
    "f = open(\"../unit/artifacts/search_playlist_res.json\", \"w\")\n",
    "f.write(json.dumps(search_res, indent=4))\n",
    "f.close()"
   ]
  },
  {
   "cell_type": "code",
   "execution_count": null,
   "id": "ed5c76cb",
   "metadata": {},
   "outputs": [],
   "source": [
    "from spoticli.util import search_parse"
   ]
  },
  {
   "cell_type": "code",
   "execution_count": null,
   "id": "ed36dcfa",
   "metadata": {},
   "outputs": [],
   "source": [
    "path = Path(\"../../tests/unit/artifacts/search_album_res.json\")\n",
    "f = open(path)\n",
    "res = json.load(f)\n",
    "\n",
    "results, uris = search_parse(res, \"albums\")"
   ]
  },
  {
   "cell_type": "code",
   "execution_count": null,
   "id": "935fc9b4",
   "metadata": {},
   "outputs": [],
   "source": [
    "results"
   ]
  },
  {
   "cell_type": "code",
   "execution_count": null,
   "id": "cf465eb1",
   "metadata": {},
   "outputs": [],
   "source": [
    "uris"
   ]
  },
  {
   "cell_type": "code",
   "execution_count": null,
   "id": "43662b26",
   "metadata": {},
   "outputs": [],
   "source": [
    "path = Path(\"../../tests/unit/artifacts/search_artist_res.json\")\n",
    "f = open(path)\n",
    "res = json.load(f)\n",
    "\n",
    "results, uris = search_parse(res, \"artists\")"
   ]
  },
  {
   "cell_type": "code",
   "execution_count": null,
   "id": "9260b783",
   "metadata": {},
   "outputs": [],
   "source": [
    "results"
   ]
  },
  {
   "cell_type": "code",
   "execution_count": null,
   "id": "363d2dcf",
   "metadata": {},
   "outputs": [],
   "source": [
    "uris"
   ]
  },
  {
   "cell_type": "code",
   "execution_count": null,
   "id": "d5e9f3e4",
   "metadata": {},
   "outputs": [],
   "source": [
    "path = Path(\"../../tests/unit/artifacts/search_playlist_res.json\")\n",
    "f = open(path)\n",
    "res = json.load(f)\n",
    "\n",
    "results, uris = search_parse(res, \"playlists\")"
   ]
  },
  {
   "cell_type": "code",
   "execution_count": null,
   "id": "d15d78f1",
   "metadata": {},
   "outputs": [],
   "source": [
    "results"
   ]
  },
  {
   "cell_type": "code",
   "execution_count": null,
   "id": "cbfa32d2",
   "metadata": {},
   "outputs": [],
   "source": [
    "uris"
   ]
  },
  {
   "cell_type": "code",
   "execution_count": null,
   "id": "3a580340",
   "metadata": {},
   "outputs": [],
   "source": [
    "path = Path(\"../../tests/unit/artifacts/search_track_res.json\")\n",
    "f = open(path)\n",
    "res = json.load(f)\n",
    "\n",
    "results, uris = search_parse(res, \"tracks\")"
   ]
  },
  {
   "cell_type": "code",
   "execution_count": null,
   "id": "0102e149",
   "metadata": {},
   "outputs": [],
   "source": [
    "results"
   ]
  },
  {
   "cell_type": "code",
   "execution_count": null,
   "id": "fbe25b68",
   "metadata": {},
   "outputs": [],
   "source": [
    "uris"
   ]
  },
  {
   "cell_type": "code",
   "execution_count": null,
   "id": "901be299",
   "metadata": {},
   "outputs": [],
   "source": []
  }
 ],
 "metadata": {
  "kernelspec": {
   "display_name": "Python 3 (ipykernel)",
   "language": "python",
   "name": "python3"
  },
  "language_info": {
   "codemirror_mode": {
    "name": "ipython",
    "version": 3
   },
   "file_extension": ".py",
   "mimetype": "text/x-python",
   "name": "python",
   "nbconvert_exporter": "python",
   "pygments_lexer": "ipython3",
   "version": "3.9.2"
  }
 },
 "nbformat": 4,
 "nbformat_minor": 5
}
