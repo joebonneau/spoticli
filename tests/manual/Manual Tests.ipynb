{
 "cells": [
  {
   "cell_type": "code",
   "execution_count": null,
   "id": "1de12ce7",
   "metadata": {},
   "outputs": [],
   "source": [
    "import os\n",
    "import json\n",
    "\n",
    "import spotipy as sp\n",
    "from spotipy.oauth2 import SpotifyOAuth\n",
    "from pprint import pprint\n",
    "import random"
   ]
  },
  {
   "cell_type": "code",
   "execution_count": null,
   "id": "ce2f8f04",
   "metadata": {},
   "outputs": [],
   "source": [
    "SPOTIFY_USER_ID = os.environ.get(\"SPOTIFY_USER_ID\")\n",
    "SPOTIFY_CLIENT_ID = os.environ.get(\"SPOTIFY_CLIENT_ID\")\n",
    "SPOTIFY_CLIENT_SECRET = os.environ.get(\"SPOTIFY_CLIENT_SECRET\")\n",
    "SPOTIFY_REDIRECT_URI = os.environ.get(\"SPOTIFY_REDIRECT_URI\")\n",
    "\n",
    "states = [\n",
    "    \"user-modify-playback-state\",\n",
    "    \"user-read-playback-state\",\n",
    "    \"user-library-read\",\n",
    "    \"playlist-read-private\",\n",
    "    \"playlist-read-collaborative\",\n",
    "    \"playlist-modify-public\",\n",
    "    \"playlist-modify-private\",\n",
    "    \"user-read-recently-played\",\n",
    "]\n",
    "STATE_STR = \" \".join(states)"
   ]
  },
  {
   "cell_type": "code",
   "execution_count": null,
   "id": "0d399787",
   "metadata": {},
   "outputs": [],
   "source": [
    "sp_auth = sp.Spotify(\n",
    "        auth_manager=SpotifyOAuth(\n",
    "            client_id=SPOTIFY_CLIENT_ID,\n",
    "            client_secret=SPOTIFY_CLIENT_SECRET,\n",
    "            redirect_uri=SPOTIFY_REDIRECT_URI,\n",
    "            scope=STATE_STR\n",
    "        )\n",
    ")"
   ]
  },
  {
   "cell_type": "code",
   "execution_count": null,
   "id": "487b59b7",
   "metadata": {},
   "outputs": [],
   "source": [
    "playlist_items = sp_auth.playlist_items(fields=\"items(track(album(album_type,type,artists(name),name,total_tracks,uri,release_date)))\", playlist_id=\"https://open.spotify.com/playlist/37i9dQZEVXbieEVQVJcsiF?si=0839594a9c684a3c\")"
   ]
  },
  {
   "cell_type": "code",
   "execution_count": null,
   "id": "d36c7d5d",
   "metadata": {
    "scrolled": true
   },
   "outputs": [],
   "source": [
    "pprint(playlist_items[\"items\"][0])"
   ]
  },
  {
   "cell_type": "code",
   "execution_count": null,
   "id": "ebb4bd83",
   "metadata": {},
   "outputs": [],
   "source": [
    "sp_auth.current_user_saved_albums_contains(albums=['spotify:album:492aRRC7C55aoT9NX7NrxJ'])"
   ]
  },
  {
   "cell_type": "code",
   "execution_count": null,
   "id": "ccb62096",
   "metadata": {},
   "outputs": [],
   "source": [
    "def get_artist_names(res):\n",
    "    \"\"\"\n",
    "    Retrieves all artist names for a given input to the \"album\" key of a response.\n",
    "    \"\"\"\n",
    "\n",
    "    artists = []\n",
    "    for artist in res[\"artists\"]:\n",
    "        artists.append(artist[\"name\"])\n",
    "    artists_str = \", \".join(artists)\n",
    "\n",
    "    return artists_str"
   ]
  },
  {
   "cell_type": "code",
   "execution_count": null,
   "id": "0c26073d",
   "metadata": {
    "scrolled": true
   },
   "outputs": [],
   "source": [
    "%%time\n",
    "from tabulate import tabulate\n",
    "\n",
    "# check_url_format(url)\n",
    "# playlist_items = sp_auth.playlist_items(playlist_id=url, fields=fields)\n",
    "album_items = []\n",
    "index = 0\n",
    "for item in playlist_items[\"items\"]:\n",
    "    item_album = item[\"track\"][\"album\"]\n",
    "    if item_album[\"total_tracks\"] > 1 and item_album[\"album_type\"] == \"single\":\n",
    "        is_album_saved = sp_auth.current_user_saved_albums_contains(albums=[item_album[\"uri\"]])\n",
    "        if is_album_saved[0]:\n",
    "            album_items.append(\n",
    "                {\n",
    "                    \"index\": index,\n",
    "                    \"artists\": get_artist_names(item_album),\n",
    "                    \"album\": item_album[\"name\"],\n",
    "                    \"album_type\": \"EP\",\n",
    "                    \"album_uri\": item_album[\"uri\"],\n",
    "                    \"release_date\": item_album[\"release_date\"],\n",
    "                    \"total_tracks\": item_album[\"total_tracks\"]\n",
    "                }\n",
    "            )\n",
    "            index += 1\n",
    "    elif item_album[\"album_type\"] == \"album\":\n",
    "        is_album_saved = sp_auth.current_user_saved_albums_contains(albums=[item_album[\"uri\"]])\n",
    "        if is_album_saved[0]:\n",
    "            album_items.append(\n",
    "                {\n",
    "                    \"index\": index,\n",
    "                    \"artists\": get_artist_names(item_album),\n",
    "                    \"album\": item_album[\"name\"],\n",
    "                    \"album_type\": item_album[\"album_type\"],\n",
    "                    \"album_uri\": item_album[\"uri\"],\n",
    "                    \"release_date\": item_album[\"release_date\"],\n",
    "                    \"total_tracks\": item_album[\"total_tracks\"]\n",
    "                }\n",
    "            )\n",
    "            index += 1\n",
    "# click.echo(tabulate(album_items, headers=\"keys\", tablefmt=\"github\"))\n",
    "album_items"
   ]
  },
  {
   "cell_type": "code",
   "execution_count": null,
   "id": "0d2205f0",
   "metadata": {},
   "outputs": [],
   "source": [
    "%%time\n",
    "from tabulate import tabulate\n",
    "\n",
    "# check_url_format(url)\n",
    "# playlist_items = sp_auth.playlist_items(playlist_id=url, fields=fields)\n",
    "album_items = []\n",
    "index = 0\n",
    "for item in playlist_items[\"items\"]:\n",
    "    item_album = item[\"track\"][\"album\"]\n",
    "    is_album_saved = sp_auth.current_user_saved_albums_contains(albums=[item_album[\"uri\"]])\n",
    "    if is_album_saved[0]:\n",
    "        if item_album[\"total_tracks\"] > 1 and item_album[\"album_type\"] == \"single\":\n",
    "                album_items.append(\n",
    "                    {\n",
    "                        \"index\": index,\n",
    "                        \"artists\": get_artist_names(item_album),\n",
    "                        \"album\": item_album[\"name\"],\n",
    "                        \"album_type\": \"EP\",\n",
    "                        \"album_uri\": item_album[\"uri\"],\n",
    "                        \"release_date\": item_album[\"release_date\"],\n",
    "                        \"total_tracks\": item_album[\"total_tracks\"]\n",
    "                    }\n",
    "                )\n",
    "                index += 1\n",
    "        elif item_album[\"album_type\"] == \"album\":\n",
    "            is_album_saved = sp_auth.current_user_saved_albums_contains(albums=[item_album[\"uri\"]])\n",
    "            if is_album_saved[0]:\n",
    "                album_items.append(\n",
    "                    {\n",
    "                        \"index\": index,\n",
    "                        \"artists\": get_artist_names(item_album),\n",
    "                        \"album\": item_album[\"name\"],\n",
    "                        \"album_type\": item_album[\"album_type\"],\n",
    "                        \"album_uri\": item_album[\"uri\"],\n",
    "                        \"release_date\": item_album[\"release_date\"],\n",
    "                        \"total_tracks\": item_album[\"total_tracks\"]\n",
    "                    }\n",
    "                )\n",
    "                index += 1\n",
    "# click.echo(tabulate(album_items, headers=\"keys\", tablefmt=\"github\"))\n",
    "album_items"
   ]
  },
  {
   "cell_type": "code",
   "execution_count": null,
   "id": "d494ccb8",
   "metadata": {},
   "outputs": [],
   "source": [
    "playback = sp_auth.current_playback()"
   ]
  },
  {
   "cell_type": "code",
   "execution_count": null,
   "id": "3fcc27b3",
   "metadata": {},
   "outputs": [],
   "source": [
    "pprint(playback)"
   ]
  },
  {
   "cell_type": "code",
   "execution_count": null,
   "id": "21d32303",
   "metadata": {},
   "outputs": [],
   "source": [
    "sp_auth.transfer_playback(device_id='884b71d1e7db094099a4975f0ddfefb7d10fc8c7', force_play=True)"
   ]
  },
  {
   "cell_type": "code",
   "execution_count": null,
   "id": "b4b454f7",
   "metadata": {},
   "outputs": [],
   "source": [
    "f = open(\"current_playback_res.json\", \"w\")\n",
    "f.write(json.dumps(current_playback, indent=4))\n",
    "f.close()"
   ]
  },
  {
   "cell_type": "code",
   "execution_count": null,
   "id": "7a4a62fb",
   "metadata": {},
   "outputs": [],
   "source": [
    "from spoticli.util import get_current_playback, convert_ms, convert_datetime\n",
    "from pathlib import Path"
   ]
  },
  {
   "cell_type": "code",
   "execution_count": null,
   "id": "05c05963",
   "metadata": {},
   "outputs": [],
   "source": [
    "path = Path(\"../../test/unit/artifacts/current_playback_res.json\")\n",
    "f = open(path)\n",
    "res = json.load(f)\n",
    "\n",
    "get_current_playback(res, False)"
   ]
  },
  {
   "cell_type": "code",
   "execution_count": null,
   "id": "13be06db",
   "metadata": {},
   "outputs": [],
   "source": [
    "convert_ms(600000)"
   ]
  },
  {
   "cell_type": "code",
   "execution_count": null,
   "id": "b8c895e9",
   "metadata": {},
   "outputs": [],
   "source": [
    "convert_datetime(\"20210813 20:01\")"
   ]
  },
  {
   "cell_type": "code",
   "execution_count": null,
   "id": "8fc0aeb4",
   "metadata": {},
   "outputs": [],
   "source": [
    "convert_datetime(\"20200403 13:37\")"
   ]
  },
  {
   "cell_type": "code",
   "execution_count": null,
   "id": "000a1919",
   "metadata": {},
   "outputs": [],
   "source": [
    "\"Durand Jones & The Indications, Aaron Frazer\"[0:35]"
   ]
  }
 ],
 "metadata": {
  "kernelspec": {
   "display_name": "Python 3 (ipykernel)",
   "language": "python",
   "name": "python3"
  },
  "language_info": {
   "codemirror_mode": {
    "name": "ipython",
    "version": 3
   },
   "file_extension": ".py",
   "mimetype": "text/x-python",
   "name": "python",
   "nbconvert_exporter": "python",
   "pygments_lexer": "ipython3",
   "version": "3.9.2"
  }
 },
 "nbformat": 4,
 "nbformat_minor": 5
}
