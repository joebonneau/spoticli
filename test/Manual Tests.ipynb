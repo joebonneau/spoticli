{
 "cells": [
  {
   "cell_type": "code",
   "execution_count": 3,
   "id": "1de12ce7",
   "metadata": {},
   "outputs": [],
   "source": [
    "import spotipy as sp\n",
    "from spotipy.oauth2 import SpotifyOAuth, SpotifyClientCredentials\n",
    "from pprint import pprint\n",
    "import random"
   ]
  },
  {
   "cell_type": "code",
   "execution_count": 4,
   "id": "ce2f8f04",
   "metadata": {},
   "outputs": [],
   "source": [
    "client_id = \"***REMOVED***\"\n",
    "client_secret = \"***REMOVED***\"\n",
    "redirect_uri = \"http://localhost:8887/callback\"\n",
    "username = \"***REMOVED***\"\n",
    "scope= \"user-library-read user-read-playback-state\""
   ]
  },
  {
   "cell_type": "code",
   "execution_count": 5,
   "id": "0d399787",
   "metadata": {},
   "outputs": [],
   "source": [
    "sp_auth = sp.Spotify(\n",
    "        auth_manager=SpotifyOAuth(\n",
    "            client_id=client_id,\n",
    "            client_secret=client_secret,\n",
    "            redirect_uri=redirect_uri,\n",
    "            scope=scope\n",
    "        )\n",
    ")"
   ]
  },
  {
   "cell_type": "code",
   "execution_count": null,
   "id": "2c122311",
   "metadata": {},
   "outputs": [],
   "source": [
    "album_uris = []\n",
    "offset = 0\n",
    "while True:\n",
    "    albums_res = sp_auth.current_user_saved_albums(limit=50, offset=offset)\n",
    "    albums = albums_res[\"items\"]\n",
    "    for i in range(len(albums)):\n",
    "        album_uris.append(albums_res[\"items\"][i][\"album\"][\"uri\"])\n",
    "    if len(albums) < 50:\n",
    "        break\n",
    "    else:\n",
    "        offset += 50\n",
    "\n",
    "\n",
    "rand_i = random.randint(0, len(album_uris))\n",
    "selected_album = album_uris[rand_i]"
   ]
  },
  {
   "cell_type": "code",
   "execution_count": null,
   "id": "b4e9a6e2",
   "metadata": {},
   "outputs": [],
   "source": [
    "rand_i"
   ]
  },
  {
   "cell_type": "code",
   "execution_count": null,
   "id": "2ec0e1d6",
   "metadata": {},
   "outputs": [],
   "source": [
    "tracks_res = sp_auth.album_tracks(selected_album, limit=50)"
   ]
  },
  {
   "cell_type": "code",
   "execution_count": null,
   "id": "f9bf0487",
   "metadata": {},
   "outputs": [],
   "source": [
    "tracks_res[\"items\"][0][\"uri\"]"
   ]
  },
  {
   "cell_type": "code",
   "execution_count": 26,
   "id": "c41d7701",
   "metadata": {},
   "outputs": [
    {
     "ename": "NameError",
     "evalue": "name 'albums_res' is not defined",
     "output_type": "error",
     "traceback": [
      "\u001b[0;31m---------------------------------------------------------------------------\u001b[0m",
      "\u001b[0;31mNameError\u001b[0m                                 Traceback (most recent call last)",
      "\u001b[0;32m/tmp/ipykernel_31343/4159739143.py\u001b[0m in \u001b[0;36m<module>\u001b[0;34m\u001b[0m\n\u001b[0;32m----> 1\u001b[0;31m \u001b[0malbums_res\u001b[0m\u001b[0;34m[\u001b[0m\u001b[0;34m\"items\"\u001b[0m\u001b[0;34m]\u001b[0m\u001b[0;34m[\u001b[0m\u001b[0;36m0\u001b[0m\u001b[0;34m]\u001b[0m\u001b[0;34m[\u001b[0m\u001b[0;34m\"album\"\u001b[0m\u001b[0;34m]\u001b[0m\u001b[0;34m[\u001b[0m\u001b[0;34m\"artists\"\u001b[0m\u001b[0;34m]\u001b[0m\u001b[0;34m\u001b[0m\u001b[0;34m\u001b[0m\u001b[0m\n\u001b[0m",
      "\u001b[0;31mNameError\u001b[0m: name 'albums_res' is not defined"
     ]
    }
   ],
   "source": [
    "albums_res[\"items\"][0][\"album\"][\"artists\"]"
   ]
  },
  {
   "cell_type": "code",
   "execution_count": 11,
   "id": "0c89d6ce",
   "metadata": {},
   "outputs": [],
   "source": [
    "auth_manager = SpotifyClientCredentials(\n",
    "    client_id=client_id,\n",
    "    client_secret=client_secret\n",
    ")\n",
    "spotify = sp.Spotify(auth_manager=auth_manager)"
   ]
  },
  {
   "cell_type": "code",
   "execution_count": 6,
   "id": "2ee14dcc",
   "metadata": {},
   "outputs": [],
   "source": [
    "current_playback = sp_auth.current_playback()"
   ]
  },
  {
   "cell_type": "code",
   "execution_count": 26,
   "id": "de1d820f",
   "metadata": {},
   "outputs": [
    {
     "data": {
      "text/plain": [
       "{'device': {'id': '8530ebdfd4de076e834fced6928868d39f9c0d12',\n",
       "  'is_active': True,\n",
       "  'is_private_session': False,\n",
       "  'is_restricted': False,\n",
       "  'name': 'joelinux-desktop',\n",
       "  'type': 'Computer',\n",
       "  'volume_percent': 100},\n",
       " 'shuffle_state': False,\n",
       " 'repeat_state': 'off',\n",
       " 'timestamp': 1628346382383,\n",
       " 'context': None,\n",
       " 'progress_ms': 151446,\n",
       " 'item': {'album': {'album_type': 'album',\n",
       "   'artists': [{'external_urls': {'spotify': 'https://open.spotify.com/artist/3WvsyFdCcS1E1ITmtYXGyG'},\n",
       "     'href': 'https://api.spotify.com/v1/artists/3WvsyFdCcS1E1ITmtYXGyG',\n",
       "     'id': '3WvsyFdCcS1E1ITmtYXGyG',\n",
       "     'name': 'Abstract Mindstate',\n",
       "     'type': 'artist',\n",
       "     'uri': 'spotify:artist:3WvsyFdCcS1E1ITmtYXGyG'}],\n",
       "   'available_markets': ['AD',\n",
       "    'AE',\n",
       "    'AG',\n",
       "    'AL',\n",
       "    'AM',\n",
       "    'AO',\n",
       "    'AR',\n",
       "    'AT',\n",
       "    'AU',\n",
       "    'AZ',\n",
       "    'BA',\n",
       "    'BB',\n",
       "    'BD',\n",
       "    'BE',\n",
       "    'BF',\n",
       "    'BG',\n",
       "    'BH',\n",
       "    'BI',\n",
       "    'BJ',\n",
       "    'BN',\n",
       "    'BO',\n",
       "    'BR',\n",
       "    'BS',\n",
       "    'BT',\n",
       "    'BW',\n",
       "    'BY',\n",
       "    'BZ',\n",
       "    'CA',\n",
       "    'CH',\n",
       "    'CI',\n",
       "    'CL',\n",
       "    'CM',\n",
       "    'CO',\n",
       "    'CR',\n",
       "    'CV',\n",
       "    'CW',\n",
       "    'CY',\n",
       "    'CZ',\n",
       "    'DE',\n",
       "    'DJ',\n",
       "    'DK',\n",
       "    'DM',\n",
       "    'DO',\n",
       "    'DZ',\n",
       "    'EC',\n",
       "    'EE',\n",
       "    'EG',\n",
       "    'ES',\n",
       "    'FI',\n",
       "    'FJ',\n",
       "    'FM',\n",
       "    'FR',\n",
       "    'GA',\n",
       "    'GB',\n",
       "    'GD',\n",
       "    'GE',\n",
       "    'GH',\n",
       "    'GM',\n",
       "    'GN',\n",
       "    'GQ',\n",
       "    'GR',\n",
       "    'GT',\n",
       "    'GW',\n",
       "    'GY',\n",
       "    'HK',\n",
       "    'HN',\n",
       "    'HR',\n",
       "    'HT',\n",
       "    'HU',\n",
       "    'ID',\n",
       "    'IE',\n",
       "    'IL',\n",
       "    'IN',\n",
       "    'IS',\n",
       "    'IT',\n",
       "    'JM',\n",
       "    'JO',\n",
       "    'JP',\n",
       "    'KE',\n",
       "    'KG',\n",
       "    'KH',\n",
       "    'KI',\n",
       "    'KM',\n",
       "    'KN',\n",
       "    'KR',\n",
       "    'KW',\n",
       "    'KZ',\n",
       "    'LA',\n",
       "    'LB',\n",
       "    'LC',\n",
       "    'LI',\n",
       "    'LK',\n",
       "    'LR',\n",
       "    'LS',\n",
       "    'LT',\n",
       "    'LU',\n",
       "    'LV',\n",
       "    'MA',\n",
       "    'MC',\n",
       "    'MD',\n",
       "    'ME',\n",
       "    'MG',\n",
       "    'MH',\n",
       "    'MK',\n",
       "    'ML',\n",
       "    'MN',\n",
       "    'MO',\n",
       "    'MR',\n",
       "    'MT',\n",
       "    'MU',\n",
       "    'MV',\n",
       "    'MW',\n",
       "    'MX',\n",
       "    'MY',\n",
       "    'MZ',\n",
       "    'NA',\n",
       "    'NE',\n",
       "    'NG',\n",
       "    'NI',\n",
       "    'NL',\n",
       "    'NO',\n",
       "    'NP',\n",
       "    'NR',\n",
       "    'NZ',\n",
       "    'OM',\n",
       "    'PA',\n",
       "    'PE',\n",
       "    'PG',\n",
       "    'PH',\n",
       "    'PK',\n",
       "    'PL',\n",
       "    'PS',\n",
       "    'PT',\n",
       "    'PW',\n",
       "    'PY',\n",
       "    'QA',\n",
       "    'RO',\n",
       "    'RS',\n",
       "    'RU',\n",
       "    'RW',\n",
       "    'SA',\n",
       "    'SB',\n",
       "    'SC',\n",
       "    'SE',\n",
       "    'SG',\n",
       "    'SI',\n",
       "    'SK',\n",
       "    'SL',\n",
       "    'SM',\n",
       "    'SN',\n",
       "    'SR',\n",
       "    'ST',\n",
       "    'SV',\n",
       "    'SZ',\n",
       "    'TD',\n",
       "    'TG',\n",
       "    'TH',\n",
       "    'TL',\n",
       "    'TN',\n",
       "    'TO',\n",
       "    'TR',\n",
       "    'TT',\n",
       "    'TV',\n",
       "    'TW',\n",
       "    'TZ',\n",
       "    'UA',\n",
       "    'UG',\n",
       "    'US',\n",
       "    'UY',\n",
       "    'UZ',\n",
       "    'VC',\n",
       "    'VN',\n",
       "    'VU',\n",
       "    'WS',\n",
       "    'XK',\n",
       "    'ZA',\n",
       "    'ZM',\n",
       "    'ZW'],\n",
       "   'external_urls': {'spotify': 'https://open.spotify.com/album/6DaJVC24u2HvaUUlupDQQ3'},\n",
       "   'href': 'https://api.spotify.com/v1/albums/6DaJVC24u2HvaUUlupDQQ3',\n",
       "   'id': '6DaJVC24u2HvaUUlupDQQ3',\n",
       "   'images': [{'height': 640,\n",
       "     'url': 'https://i.scdn.co/image/ab67616d0000b2730d5b4794a7a10338ce29a6f0',\n",
       "     'width': 640},\n",
       "    {'height': 300,\n",
       "     'url': 'https://i.scdn.co/image/ab67616d00001e020d5b4794a7a10338ce29a6f0',\n",
       "     'width': 300},\n",
       "    {'height': 64,\n",
       "     'url': 'https://i.scdn.co/image/ab67616d000048510d5b4794a7a10338ce29a6f0',\n",
       "     'width': 64}],\n",
       "   'name': 'Dreams Still Inspire',\n",
       "   'release_date': '2021-08-06',\n",
       "   'release_date_precision': 'day',\n",
       "   'total_tracks': 14,\n",
       "   'type': 'album',\n",
       "   'uri': 'spotify:album:6DaJVC24u2HvaUUlupDQQ3'},\n",
       "  'artists': [{'external_urls': {'spotify': 'https://open.spotify.com/artist/3WvsyFdCcS1E1ITmtYXGyG'},\n",
       "    'href': 'https://api.spotify.com/v1/artists/3WvsyFdCcS1E1ITmtYXGyG',\n",
       "    'id': '3WvsyFdCcS1E1ITmtYXGyG',\n",
       "    'name': 'Abstract Mindstate',\n",
       "    'type': 'artist',\n",
       "    'uri': 'spotify:artist:3WvsyFdCcS1E1ITmtYXGyG'}],\n",
       "  'available_markets': ['AD',\n",
       "   'AE',\n",
       "   'AG',\n",
       "   'AL',\n",
       "   'AM',\n",
       "   'AO',\n",
       "   'AR',\n",
       "   'AT',\n",
       "   'AU',\n",
       "   'AZ',\n",
       "   'BA',\n",
       "   'BB',\n",
       "   'BD',\n",
       "   'BE',\n",
       "   'BF',\n",
       "   'BG',\n",
       "   'BH',\n",
       "   'BI',\n",
       "   'BJ',\n",
       "   'BN',\n",
       "   'BO',\n",
       "   'BR',\n",
       "   'BS',\n",
       "   'BT',\n",
       "   'BW',\n",
       "   'BY',\n",
       "   'BZ',\n",
       "   'CA',\n",
       "   'CH',\n",
       "   'CI',\n",
       "   'CL',\n",
       "   'CM',\n",
       "   'CO',\n",
       "   'CR',\n",
       "   'CV',\n",
       "   'CW',\n",
       "   'CY',\n",
       "   'CZ',\n",
       "   'DE',\n",
       "   'DJ',\n",
       "   'DK',\n",
       "   'DM',\n",
       "   'DO',\n",
       "   'DZ',\n",
       "   'EC',\n",
       "   'EE',\n",
       "   'EG',\n",
       "   'ES',\n",
       "   'FI',\n",
       "   'FJ',\n",
       "   'FM',\n",
       "   'FR',\n",
       "   'GA',\n",
       "   'GB',\n",
       "   'GD',\n",
       "   'GE',\n",
       "   'GH',\n",
       "   'GM',\n",
       "   'GN',\n",
       "   'GQ',\n",
       "   'GR',\n",
       "   'GT',\n",
       "   'GW',\n",
       "   'GY',\n",
       "   'HK',\n",
       "   'HN',\n",
       "   'HR',\n",
       "   'HT',\n",
       "   'HU',\n",
       "   'ID',\n",
       "   'IE',\n",
       "   'IL',\n",
       "   'IN',\n",
       "   'IS',\n",
       "   'IT',\n",
       "   'JM',\n",
       "   'JO',\n",
       "   'JP',\n",
       "   'KE',\n",
       "   'KG',\n",
       "   'KH',\n",
       "   'KI',\n",
       "   'KM',\n",
       "   'KN',\n",
       "   'KR',\n",
       "   'KW',\n",
       "   'KZ',\n",
       "   'LA',\n",
       "   'LB',\n",
       "   'LC',\n",
       "   'LI',\n",
       "   'LK',\n",
       "   'LR',\n",
       "   'LS',\n",
       "   'LT',\n",
       "   'LU',\n",
       "   'LV',\n",
       "   'MA',\n",
       "   'MC',\n",
       "   'MD',\n",
       "   'ME',\n",
       "   'MG',\n",
       "   'MH',\n",
       "   'MK',\n",
       "   'ML',\n",
       "   'MN',\n",
       "   'MO',\n",
       "   'MR',\n",
       "   'MT',\n",
       "   'MU',\n",
       "   'MV',\n",
       "   'MW',\n",
       "   'MX',\n",
       "   'MY',\n",
       "   'MZ',\n",
       "   'NA',\n",
       "   'NE',\n",
       "   'NG',\n",
       "   'NI',\n",
       "   'NL',\n",
       "   'NO',\n",
       "   'NP',\n",
       "   'NR',\n",
       "   'NZ',\n",
       "   'OM',\n",
       "   'PA',\n",
       "   'PE',\n",
       "   'PG',\n",
       "   'PH',\n",
       "   'PK',\n",
       "   'PL',\n",
       "   'PS',\n",
       "   'PT',\n",
       "   'PW',\n",
       "   'PY',\n",
       "   'QA',\n",
       "   'RO',\n",
       "   'RS',\n",
       "   'RU',\n",
       "   'RW',\n",
       "   'SA',\n",
       "   'SB',\n",
       "   'SC',\n",
       "   'SE',\n",
       "   'SG',\n",
       "   'SI',\n",
       "   'SK',\n",
       "   'SL',\n",
       "   'SM',\n",
       "   'SN',\n",
       "   'SR',\n",
       "   'ST',\n",
       "   'SV',\n",
       "   'SZ',\n",
       "   'TD',\n",
       "   'TG',\n",
       "   'TH',\n",
       "   'TL',\n",
       "   'TN',\n",
       "   'TO',\n",
       "   'TR',\n",
       "   'TT',\n",
       "   'TV',\n",
       "   'TW',\n",
       "   'TZ',\n",
       "   'UA',\n",
       "   'UG',\n",
       "   'US',\n",
       "   'UY',\n",
       "   'UZ',\n",
       "   'VC',\n",
       "   'VN',\n",
       "   'VU',\n",
       "   'WS',\n",
       "   'XK',\n",
       "   'ZA',\n",
       "   'ZM',\n",
       "   'ZW'],\n",
       "  'disc_number': 1,\n",
       "  'duration_ms': 170402,\n",
       "  'explicit': False,\n",
       "  'external_ids': {'isrc': 'QZS7J2174714'},\n",
       "  'external_urls': {'spotify': 'https://open.spotify.com/track/4gLT7mu2GVsejh7gGy8dtF'},\n",
       "  'href': 'https://api.spotify.com/v1/tracks/4gLT7mu2GVsejh7gGy8dtF',\n",
       "  'id': '4gLT7mu2GVsejh7gGy8dtF',\n",
       "  'is_local': False,\n",
       "  'name': 'Elevation',\n",
       "  'popularity': 8,\n",
       "  'preview_url': 'https://p.scdn.co/mp3-preview/54e439c3f2083144aa069754d2896603227a69e1?cid=***REMOVED***',\n",
       "  'track_number': 5,\n",
       "  'type': 'track',\n",
       "  'uri': 'spotify:track:4gLT7mu2GVsejh7gGy8dtF'},\n",
       " 'currently_playing_type': 'track',\n",
       " 'actions': {'disallows': {'resuming': True,\n",
       "   'toggling_repeat_context': True,\n",
       "   'toggling_shuffle': True}},\n",
       " 'is_playing': True}"
      ]
     },
     "execution_count": 26,
     "metadata": {},
     "output_type": "execute_result"
    }
   ],
   "source": [
    "current_playback"
   ]
  },
  {
   "cell_type": "code",
   "execution_count": 34,
   "id": "05fd0934",
   "metadata": {},
   "outputs": [
    {
     "data": {
      "text/plain": [
       "'spotify:track:4gLT7mu2GVsejh7gGy8dtF'"
      ]
     },
     "execution_count": 34,
     "metadata": {},
     "output_type": "execute_result"
    }
   ],
   "source": [
    "current_playback[\"item\"][\"uri\"]"
   ]
  },
  {
   "cell_type": "code",
   "execution_count": 24,
   "id": "0bc4da2c",
   "metadata": {},
   "outputs": [],
   "source": [
    "artists = []\n",
    "for i in range(len(current_playback[\"item\"][\"artists\"])):\n",
    "    artists.append(current_playback[\"item\"][\"artists\"][i][\"name\"])\n",
    "    artists_str = \", \".join(artists)\n"
   ]
  },
  {
   "cell_type": "code",
   "execution_count": 25,
   "id": "3234e46f",
   "metadata": {},
   "outputs": [
    {
     "data": {
      "text/plain": [
       "'Khruangbin, Kadhja Bonet'"
      ]
     },
     "execution_count": 25,
     "metadata": {},
     "output_type": "execute_result"
    }
   ],
   "source": [
    "artists_str"
   ]
  },
  {
   "cell_type": "code",
   "execution_count": 31,
   "id": "fc94ca6e",
   "metadata": {},
   "outputs": [],
   "source": [
    "playlist_res = sp_auth.current_user_playlists(limit=20)"
   ]
  },
  {
   "cell_type": "code",
   "execution_count": 35,
   "id": "cd70bbf0",
   "metadata": {},
   "outputs": [
    {
     "name": "stdout",
     "output_type": "stream",
     "text": [
      "Wedding first dance\n",
      "August 2021\n",
      "Bars, Pt. 3 (2021)\n",
      "Chillin', Pt. 3 (2021)\n",
      "Groovin, Pt. 3 (2021)\n",
      "Intimacy, Pt. 3 (2021)\n",
      "July 2021\n",
      "June 2021\n",
      "May 2021\n",
      "Intimacy, Pt. 2 (2021)\n",
      "Bars, Pt. 2 (2021)\n",
      "Groovin', Pt. 2 (2021)\n",
      "Chillin', Pt. 2 (2021)\n",
      "April 2021\n",
      "March 2021\n",
      "February 2021\n",
      "Bars, Pt. 1 (2021)\n",
      "Intimacy, Pt. 1 (2021)\n",
      "Chillin', Pt. 1 (2021)\n",
      "Groovin', Pt. 1 (2021)\n"
     ]
    }
   ],
   "source": [
    "for i in range(len(playlist_res[\"items\"])):\n",
    "    print(playlist_res[\"items\"][i][\"name\"])"
   ]
  },
  {
   "cell_type": "code",
   "execution_count": 10,
   "id": "602159d1",
   "metadata": {},
   "outputs": [
    {
     "data": {
      "text/plain": [
       "['0', ' 11']"
      ]
     },
     "execution_count": 10,
     "metadata": {},
     "output_type": "execute_result"
    }
   ],
   "source": [
    "indices = \"0, 11\"\n",
    "indices.split(\",\")"
   ]
  },
  {
   "cell_type": "code",
   "execution_count": 31,
   "id": "4219ee8f",
   "metadata": {},
   "outputs": [
    {
     "data": {
      "text/plain": [
       "[0, 11]"
      ]
     },
     "execution_count": 31,
     "metadata": {},
     "output_type": "execute_result"
    }
   ],
   "source": [
    "list(map(int, indices.split(\",\")))"
   ]
  },
  {
   "cell_type": "code",
   "execution_count": 13,
   "id": "7a89629a",
   "metadata": {},
   "outputs": [
    {
     "ename": "ValueError",
     "evalue": "invalid literal for int() with base 10: 'e'",
     "output_type": "error",
     "traceback": [
      "\u001b[0;31m---------------------------------------------------------------------------\u001b[0m",
      "\u001b[0;31mValueError\u001b[0m                                Traceback (most recent call last)",
      "\u001b[0;32m/tmp/ipykernel_7340/771389779.py\u001b[0m in \u001b[0;36m<module>\u001b[0;34m\u001b[0m\n\u001b[0;32m----> 1\u001b[0;31m \u001b[0mint\u001b[0m\u001b[0;34m(\u001b[0m\u001b[0;34m\"e\"\u001b[0m\u001b[0;34m)\u001b[0m\u001b[0;34m\u001b[0m\u001b[0;34m\u001b[0m\u001b[0m\n\u001b[0m",
      "\u001b[0;31mValueError\u001b[0m: invalid literal for int() with base 10: 'e'"
     ]
    }
   ],
   "source": [
    "int(\"e\")"
   ]
  },
  {
   "cell_type": "code",
   "execution_count": 15,
   "id": "f99c6c63",
   "metadata": {},
   "outputs": [],
   "source": [
    "minutes, seconds = divmod(170402/1000 , 60)"
   ]
  },
  {
   "cell_type": "code",
   "execution_count": 16,
   "id": "f1d31926",
   "metadata": {},
   "outputs": [
    {
     "data": {
      "text/plain": [
       "2.0"
      ]
     },
     "execution_count": 16,
     "metadata": {},
     "output_type": "execute_result"
    }
   ],
   "source": [
    "minutes"
   ]
  },
  {
   "cell_type": "code",
   "execution_count": 17,
   "id": "f64f3bd6",
   "metadata": {},
   "outputs": [
    {
     "data": {
      "text/plain": [
       "50.40199999999999"
      ]
     },
     "execution_count": 17,
     "metadata": {},
     "output_type": "execute_result"
    }
   ],
   "source": [
    "seconds"
   ]
  },
  {
   "cell_type": "code",
   "execution_count": 19,
   "id": "0616b5b3",
   "metadata": {},
   "outputs": [
    {
     "name": "stdout",
     "output_type": "stream",
     "text": [
      "2:50\n"
     ]
    }
   ],
   "source": [
    "duration = f\"{int(minutes)}:{int(round(seconds,0))}\"\n",
    "print(duration)"
   ]
  },
  {
   "cell_type": "code",
   "execution_count": 29,
   "id": "75d77b43",
   "metadata": {},
   "outputs": [
    {
     "data": {
      "text/plain": [
       "50.0"
      ]
     },
     "execution_count": 29,
     "metadata": {},
     "output_type": "execute_result"
    }
   ],
   "source": [
    "round(seconds,-1)"
   ]
  },
  {
   "cell_type": "code",
   "execution_count": null,
   "id": "d494ccb8",
   "metadata": {},
   "outputs": [],
   "source": []
  }
 ],
 "metadata": {
  "kernelspec": {
   "display_name": "Python 3 (ipykernel)",
   "language": "python",
   "name": "python3"
  },
  "language_info": {
   "codemirror_mode": {
    "name": "ipython",
    "version": 3
   },
   "file_extension": ".py",
   "mimetype": "text/x-python",
   "name": "python",
   "nbconvert_exporter": "python",
   "pygments_lexer": "ipython3",
   "version": "3.9.2"
  }
 },
 "nbformat": 4,
 "nbformat_minor": 5
}
