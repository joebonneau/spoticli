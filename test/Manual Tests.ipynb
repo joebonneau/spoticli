{
 "cells": [
  {
   "cell_type": "code",
   "execution_count": 1,
   "id": "1de12ce7",
   "metadata": {},
   "outputs": [],
   "source": [
    "import spotipy as sp\n",
    "from spotipy.oauth2 import SpotifyOAuth\n",
    "import pprint as pprint\n",
    "import random"
   ]
  },
  {
   "cell_type": "code",
   "execution_count": 2,
   "id": "ce2f8f04",
   "metadata": {},
   "outputs": [],
   "source": [
    "client_id = \"520cdb9e1e8e401480625d095e3ad2ed\"\n",
    "client_secret = \"\"\n",
    "redirect_uri = \"http://localhost:8887/callback\"\n",
    "username = \"\"\n",
    "scope= \"user-library-read\""
   ]
  },
  {
   "cell_type": "code",
   "execution_count": 3,
   "id": "0d399787",
   "metadata": {},
   "outputs": [],
   "source": [
    "sp_auth = sp.Spotify(\n",
    "        auth_manager=SpotifyOAuth(\n",
    "            client_id=client_id,\n",
    "            client_secret=client_secret,\n",
    "            redirect_uri=redirect_uri,\n",
    "            scope=scope\n",
    "        )\n",
    ")"
   ]
  },
  {
   "cell_type": "code",
   "execution_count": 4,
   "id": "2c122311",
   "metadata": {},
   "outputs": [],
   "source": [
    "album_uris = []\n",
    "offset = 0\n",
    "while True:\n",
    "    albums_res = sp_auth.current_user_saved_albums(limit=50, offset=offset)\n",
    "    albums = albums_res[\"items\"]\n",
    "    for i in range(len(albums)):\n",
    "        album_uris.append(albums_res[\"items\"][i][\"album\"][\"uri\"])\n",
    "    if len(albums) < 50:\n",
    "        break\n",
    "    else:\n",
    "        offset += 50\n",
    "\n",
    "\n",
    "rand_i = random.randint(0, len(album_uris))\n",
    "selected_album = album_uris[rand_i]"
   ]
  },
  {
   "cell_type": "code",
   "execution_count": null,
   "id": "b4e9a6e2",
   "metadata": {},
   "outputs": [],
   "source": [
    "rand_i"
   ]
  },
  {
   "cell_type": "code",
   "execution_count": null,
   "id": "2ec0e1d6",
   "metadata": {},
   "outputs": [],
   "source": [
    "tracks_res = sp_auth.album_tracks(selected_album, limit=50)"
   ]
  },
  {
   "cell_type": "code",
   "execution_count": null,
   "id": "f9bf0487",
   "metadata": {},
   "outputs": [],
   "source": [
    "tracks_res[\"items\"][0][\"uri\"]"
   ]
  },
  {
   "cell_type": "code",
   "execution_count": 7,
   "id": "c41d7701",
   "metadata": {},
   "outputs": [
    {
     "data": {
      "text/plain": [
       "[{'external_urls': {'spotify': 'https://open.spotify.com/artist/5w834ZosnqiBBV8xXCi3oD'},\n",
       "  'href': 'https://api.spotify.com/v1/artists/5w834ZosnqiBBV8xXCi3oD',\n",
       "  'id': '5w834ZosnqiBBV8xXCi3oD',\n",
       "  'name': 'Willie Hutch',\n",
       "  'type': 'artist',\n",
       "  'uri': 'spotify:artist:5w834ZosnqiBBV8xXCi3oD'}]"
      ]
     },
     "execution_count": 7,
     "metadata": {},
     "output_type": "execute_result"
    }
   ],
   "source": [
    "albums_res[\"items\"][0][\"album\"][\"artists\"]"
   ]
  },
  {
   "cell_type": "code",
   "execution_count": null,
   "id": "7c347cdc",
   "metadata": {},
   "outputs": [],
   "source": []
  }
 ],
 "metadata": {
  "kernelspec": {
   "display_name": "Python 3 (ipykernel)",
   "language": "python",
   "name": "python3"
  },
  "language_info": {
   "codemirror_mode": {
    "name": "ipython",
    "version": 3
   },
   "file_extension": ".py",
   "mimetype": "text/x-python",
   "name": "python",
   "nbconvert_exporter": "python",
   "pygments_lexer": "ipython3",
   "version": "3.9.2"
  }
 },
 "nbformat": 4,
 "nbformat_minor": 5
}
