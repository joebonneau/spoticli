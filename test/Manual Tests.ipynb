{
 "cells": [
  {
   "cell_type": "code",
   "execution_count": 1,
   "id": "1de12ce7",
   "metadata": {},
   "outputs": [],
   "source": [
    "import spotipy as sp\n",
    "from spotipy.oauth2 import SpotifyOAuth, SpotifyClientCredentials\n",
    "from pprint import pprint\n",
    "import random"
   ]
  },
  {
   "cell_type": "code",
   "execution_count": 5,
   "id": "ce2f8f04",
   "metadata": {},
   "outputs": [],
   "source": [
    "client_id = \"520cdb9e1e8e401480625d095e3ad2ed\"\n",
    "client_secret = \"3541a7b1df4b47e8877d386ffe58807b\"\n",
    "redirect_uri = \"http://localhost:8887/callback\"\n",
    "username = \"hp5s41fd8dkrl0mi77gwptmco\"\n",
    "scope= \"user-library-read user-read-playback-state\""
   ]
  },
  {
   "cell_type": "code",
   "execution_count": 6,
   "id": "0d399787",
   "metadata": {},
   "outputs": [],
   "source": [
    "sp_auth = sp.Spotify(\n",
    "        auth_manager=SpotifyOAuth(\n",
    "            client_id=client_id,\n",
    "            client_secret=client_secret,\n",
    "            redirect_uri=redirect_uri,\n",
    "            scope=scope\n",
    "        )\n",
    ")"
   ]
  },
  {
   "cell_type": "code",
   "execution_count": null,
   "id": "2c122311",
   "metadata": {},
   "outputs": [],
   "source": [
    "album_uris = []\n",
    "offset = 0\n",
    "while True:\n",
    "    albums_res = sp_auth.current_user_saved_albums(limit=50, offset=offset)\n",
    "    albums = albums_res[\"items\"]\n",
    "    for i in range(len(albums)):\n",
    "        album_uris.append(albums_res[\"items\"][i][\"album\"][\"uri\"])\n",
    "    if len(albums) < 50:\n",
    "        break\n",
    "    else:\n",
    "        offset += 50\n",
    "\n",
    "\n",
    "rand_i = random.randint(0, len(album_uris))\n",
    "selected_album = album_uris[rand_i]"
   ]
  },
  {
   "cell_type": "code",
   "execution_count": null,
   "id": "b4e9a6e2",
   "metadata": {},
   "outputs": [],
   "source": [
    "rand_i"
   ]
  },
  {
   "cell_type": "code",
   "execution_count": null,
   "id": "2ec0e1d6",
   "metadata": {},
   "outputs": [],
   "source": [
    "tracks_res = sp_auth.album_tracks(selected_album, limit=50)"
   ]
  },
  {
   "cell_type": "code",
   "execution_count": null,
   "id": "f9bf0487",
   "metadata": {},
   "outputs": [],
   "source": [
    "tracks_res[\"items\"][0][\"uri\"]"
   ]
  },
  {
   "cell_type": "code",
   "execution_count": 26,
   "id": "c41d7701",
   "metadata": {},
   "outputs": [
    {
     "ename": "NameError",
     "evalue": "name 'albums_res' is not defined",
     "output_type": "error",
     "traceback": [
      "\u001b[0;31m---------------------------------------------------------------------------\u001b[0m",
      "\u001b[0;31mNameError\u001b[0m                                 Traceback (most recent call last)",
      "\u001b[0;32m/tmp/ipykernel_31343/4159739143.py\u001b[0m in \u001b[0;36m<module>\u001b[0;34m\u001b[0m\n\u001b[0;32m----> 1\u001b[0;31m \u001b[0malbums_res\u001b[0m\u001b[0;34m[\u001b[0m\u001b[0;34m\"items\"\u001b[0m\u001b[0;34m]\u001b[0m\u001b[0;34m[\u001b[0m\u001b[0;36m0\u001b[0m\u001b[0;34m]\u001b[0m\u001b[0;34m[\u001b[0m\u001b[0;34m\"album\"\u001b[0m\u001b[0;34m]\u001b[0m\u001b[0;34m[\u001b[0m\u001b[0;34m\"artists\"\u001b[0m\u001b[0;34m]\u001b[0m\u001b[0;34m\u001b[0m\u001b[0;34m\u001b[0m\u001b[0m\n\u001b[0m",
      "\u001b[0;31mNameError\u001b[0m: name 'albums_res' is not defined"
     ]
    }
   ],
   "source": [
    "albums_res[\"items\"][0][\"album\"][\"artists\"]"
   ]
  },
  {
   "cell_type": "code",
   "execution_count": 11,
   "id": "89e39706",
   "metadata": {},
   "outputs": [],
   "source": [
    "auth_manager = SpotifyClientCredentials(\n",
    "    client_id=client_id,\n",
    "    client_secret=client_secret\n",
    ")\n",
    "spotify = sp.Spotify(auth_manager=auth_manager)"
   ]
  },
  {
   "cell_type": "code",
   "execution_count": 13,
   "id": "d29d7287",
   "metadata": {},
   "outputs": [],
   "source": [
    "current_playback = sp_auth.current_playback()"
   ]
  },
  {
   "cell_type": "code",
   "execution_count": 24,
   "id": "77fdb0c8",
   "metadata": {},
   "outputs": [],
   "source": [
    "artists = []\n",
    "for i in range(len(current_playback[\"item\"][\"artists\"])):\n",
    "    artists.append(current_playback[\"item\"][\"artists\"][i][\"name\"])\n",
    "    artists_str = \", \".join(artists)\n"
   ]
  },
  {
   "cell_type": "code",
   "execution_count": 25,
   "id": "83f803f0",
   "metadata": {},
   "outputs": [
    {
     "data": {
      "text/plain": [
       "'Khruangbin, Kadhja Bonet'"
      ]
     },
     "execution_count": 25,
     "metadata": {},
     "output_type": "execute_result"
    }
   ],
   "source": [
    "artists_str"
   ]
  },
  {
   "cell_type": "code",
   "execution_count": null,
   "id": "d0bd1c5f",
   "metadata": {},
   "outputs": [],
   "source": []
  }
 ],
 "metadata": {
  "kernelspec": {
   "display_name": "Python 3 (ipykernel)",
   "language": "python",
   "name": "python3"
  },
  "language_info": {
   "codemirror_mode": {
    "name": "ipython",
    "version": 3
   },
   "file_extension": ".py",
   "mimetype": "text/x-python",
   "name": "python",
   "nbconvert_exporter": "python",
   "pygments_lexer": "ipython3",
   "version": "3.9.2"
  }
 },
 "nbformat": 4,
 "nbformat_minor": 5
}
